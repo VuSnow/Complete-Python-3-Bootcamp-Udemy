{
 "cells": [
  {
   "cell_type": "markdown",
   "metadata": {},
   "source": [
    "___\n",
    "\n",
    "<a href='https://www.udemy.com/user/joseportilla/'><img src='../Pierian_Data_Logo.png'/></a>\n",
    "___\n",
    "<center><em>Content Copyright by Pierian Data</em></center>"
   ]
  },
  {
   "cell_type": "markdown",
   "metadata": {},
   "source": [
    "# Guessing Game Challenge\n",
    "\n",
    "Let's use `while` loops to create a guessing game.\n",
    "\n",
    "The Challenge:\n",
    "\n",
    "Write a program that picks a random integer from 1 to 100, and has players guess the number. The rules are:\n",
    "\n",
    "1. If a player's guess is less than 1 or greater than 100, say \"OUT OF BOUNDS\"\n",
    "2. On a player's first turn, if their guess is\n",
    " * within 10 of the number, return \"WARM!\"\n",
    " * further than 10 away from the number, return \"COLD!\"\n",
    "3. On all subsequent turns, if a guess is \n",
    " * closer to the number than the previous guess return \"WARMER!\"\n",
    " * farther from the number than the previous guess, return \"COLDER!\"\n",
    "4. When the player's guess equals the number, tell them they've guessed correctly *and* how many guesses it took!\n",
    "\n",
    "You can try this from scratch, or follow the steps outlined below. A separate Solution notebook has been provided. Good luck!\n"
   ]
  },
  {
   "cell_type": "markdown",
   "metadata": {},
   "source": [
    "#### First, pick a random integer from 1 to 100 using the random module and assign it to a variable\n",
    "\n",
    "Note: `random.randint(a,b)` returns a random integer in range `[a, b]`, including both end points."
   ]
  },
  {
   "cell_type": "code",
   "execution_count": 31,
   "metadata": {
    "collapsed": true
   },
   "outputs": [
    {
     "name": "stdout",
     "output_type": "stream",
     "text": [
      "15\n"
     ]
    }
   ],
   "source": [
    "from random import randint\n",
    "guess_number = randint(1, 100)\n",
    "print(guess_number)"
   ]
  },
  {
   "cell_type": "code",
   "execution_count": 32,
   "metadata": {},
   "outputs": [
    {
     "name": "stdout",
     "output_type": "stream",
     "text": [
      "Welcome to Guessing Game!\n",
      "Your duty is guess exactly the random number of the game. The number is in range from 1 to 100.\n",
      "In your first turn, if your guess is within 10 of the number, the game will display 'WARM!' else 'COLD!'\n",
      "And on the subsequent turns, if your guess is closer to the number than the previous guess, the game will display 'WARMER!' else 'COLDER!'\n",
      "And if your guess is correct the number, the game will display 'BINGO!!!'\n"
     ]
    }
   ],
   "source": [
    "# print the rules: \n",
    "print(\"Welcome to Guessing Game!\")\n",
    "print(\"Your duty is guess exactly the random number of the game. The number is in range from 1 to 100.\")\n",
    "print(\"In your first turn, if your guess is within 10 of the number, the game will display 'WARM!' else 'COLD!'\")\n",
    "print(\"And on the subsequent turns, if your guess is closer to the number than the previous guess, the game will display 'WARMER!' else 'COLDER!'\")\n",
    "print(\"And if your guess is correct the number, the game will display 'BINGO!!!'\")"
   ]
  },
  {
   "cell_type": "code",
   "execution_count": 33,
   "metadata": {},
   "outputs": [
    {
     "name": "stdout",
     "output_type": "stream",
     "text": [
      "COLD!\n",
      "WARMER!\n",
      "WARMER!\n",
      "COLDER!\n",
      "BINGO!!!\n",
      "Your guessing time: 5\n",
      "And your history answer: [80, 25, 20, 24, 15]\n"
     ]
    }
   ],
   "source": [
    "#create a variable to count \n",
    "count_guess = 0\n",
    "answer_list = []\n",
    "while True:\n",
    "    number = int(input('Guess the number: '))\n",
    "    if(number < 1 or number > 100):\n",
    "        print('OUT OF BOUNDS!')\n",
    "        continue\n",
    "    \n",
    "    #update counting\n",
    "    count_guess += 1\n",
    "    \n",
    "    # update answer list\n",
    "    answer_list.append(number)\n",
    "    \n",
    "    # check the answer\n",
    "    if(number == guess_number):\n",
    "        print('BINGO!!!')\n",
    "        print(f'Your guessing time: {count_guess}')\n",
    "        print(f'And your history answer: {answer_list}')\n",
    "        break\n",
    "    \n",
    "    # check if the guess is the first time\n",
    "    if(count_guess == 1):\n",
    "        if(abs(number - guess_number) <= 10):\n",
    "            print('WARM!')\n",
    "        else: \n",
    "            print('COLD!')\n",
    "    else:\n",
    "        if(abs(number - guess_number) <= abs(answer_list[-2] - guess_number)):\n",
    "            print('WARMER!')\n",
    "        else: \n",
    "            print('COLDER!')\n",
    "    \n",
    "            "
   ]
  },
  {
   "cell_type": "markdown",
   "metadata": {},
   "source": [
    "### Good Job!"
   ]
  }
 ],
 "metadata": {
  "kernelspec": {
   "display_name": "Python 3",
   "language": "python",
   "name": "python3"
  },
  "language_info": {
   "codemirror_mode": {
    "name": "ipython",
    "version": 3
   },
   "file_extension": ".py",
   "mimetype": "text/x-python",
   "name": "python",
   "nbconvert_exporter": "python",
   "pygments_lexer": "ipython3",
   "version": "3.11.5"
  }
 },
 "nbformat": 4,
 "nbformat_minor": 2
}
