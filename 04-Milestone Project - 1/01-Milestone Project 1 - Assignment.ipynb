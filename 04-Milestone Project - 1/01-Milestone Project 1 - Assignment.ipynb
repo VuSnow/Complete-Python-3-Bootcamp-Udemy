{
 "cells": [
  {
   "cell_type": "markdown",
   "metadata": {},
   "source": [
    "___\n",
    "\n",
    "<a href='https://www.udemy.com/user/joseportilla/'><img src='../Pierian_Data_Logo.png'/></a>\n",
    "___\n",
    "<center><em>Content Copyright by Pierian Data</em></center>"
   ]
  },
  {
   "cell_type": "markdown",
   "metadata": {},
   "source": [
    "# Milestone Project 1\n",
    "## Congratulations on making it to your first milestone!\n",
    "You've already learned a ton and are ready to work on a real project.\n",
    "\n",
    "Your assignment: Create a Tic Tac Toe game. You are free to use any IDE you like.\n",
    "\n",
    "Here are the requirements:\n",
    "\n",
    "* 2 players should be able to play the game (both sitting at the same computer)\n",
    "* The board should be printed out every time a player makes a move\n",
    "* You should be able to accept input of the player position and then place a symbol on the board\n",
    "\n",
    "Feel free to use Google to help you figure anything out (but don't just Google \"Tic Tac Toe in Python\" otherwise you won't learn anything!) Keep in mind that this project can take anywhere between several hours to several days.\n",
    "\n",
    "There are 4 Jupyter Notebooks related to this assignment:\n",
    "\n",
    "* This Assignment Notebook\n",
    "* A \"Walkthrough Steps Workbook\" Notebook\n",
    "* A \"Complete Walkthrough Solution\" Notebook\n",
    "* An \"Advanced Solution\" Notebook\n",
    "\n",
    "I encourage you to just try to start the project on your own without referencing any of the notebooks. If you get stuck, check out the next lecture which is a text lecture with helpful hints and steps. If you're still stuck after that, then check out the Walkthrough Steps Workbook, which breaks up the project in steps for you to solve. Still stuck? Then check out the Complete Walkthrough Solution video for more help on approaching the project!"
   ]
  },
  {
   "cell_type": "markdown",
   "metadata": {},
   "source": [
    "There are parts of this that will be a struggle...and that is good! I have complete faith that if you have made it this far through the course you have all the tools and knowledge to tackle this project. Remember, it's totally open book, so take your time, do a little research, and remember:\n",
    "\n",
    "## HAVE FUN!"
   ]
  },
  {
   "cell_type": "code",
   "execution_count": 101,
   "metadata": {},
   "outputs": [],
   "source": [
    "# choose the size of the table\n",
    "def choice_size_table():\n",
    "    input_size = input(\"Input the size of the table you want to play: \")\n",
    "    while input_size.isdigit() == False or int(input_size) < 3:\n",
    "        input_size = input(\"Input the size of the table you want to play: \")\n",
    "        print(\"Please input the number greater than 3\")\n",
    "    return int(input_size)"
   ]
  },
  {
   "cell_type": "code",
   "execution_count": 102,
   "metadata": {},
   "outputs": [],
   "source": [
    "# create list of empty row of the table\n",
    "def create_row_list(input_size):\n",
    "    row_list = [] * input_size\n",
    "    row_number = 1\n",
    "    while row_number <= input_size:\n",
    "        number_element = 1\n",
    "        row = [] \n",
    "        while number_element <= input_size:\n",
    "            row.append(' ')\n",
    "            number_element += 1\n",
    "        row_list.append(row)\n",
    "        row_number += 1\n",
    "    return row_list"
   ]
  },
  {
   "cell_type": "code",
   "execution_count": 103,
   "metadata": {},
   "outputs": [],
   "source": [
    "def draw_table(list_input):\n",
    "    for row in list_input:\n",
    "        print(*row, sep=\" | \")"
   ]
  },
  {
   "cell_type": "code",
   "execution_count": 104,
   "metadata": {},
   "outputs": [
    {
     "name": "stdout",
     "output_type": "stream",
     "text": [
      "1 | 2 | 3\n",
      "4 | 5 | 6\n",
      "7 | 8 | 9\n"
     ]
    }
   ],
   "source": [
    "draw_table([[1,2,3],[4,5,6],[7,8,9]])"
   ]
  },
  {
   "cell_type": "code",
   "execution_count": 105,
   "metadata": {},
   "outputs": [],
   "source": [
    "def choose_marker():\n",
    "    while True:\n",
    "        marker = input(\"Player 1, You want to be X or O?\").upper()\n",
    "        if marker.upper() == 'X' or marker.upper() == 'O':\n",
    "            break\n",
    "    if marker == 'X':\n",
    "        return ('X', 'O')\n",
    "    else:\n",
    "        return ('O', 'X')"
   ]
  },
  {
   "cell_type": "code",
   "execution_count": 106,
   "metadata": {},
   "outputs": [],
   "source": [
    "import random\n",
    "\n",
    "def play_first():\n",
    "    if random.randint(0, 1) == 0:\n",
    "        return 'Player 2'\n",
    "    else:\n",
    "        return 'Player 1'"
   ]
  },
  {
   "cell_type": "code",
   "execution_count": 107,
   "metadata": {},
   "outputs": [],
   "source": [
    "def place_marker(row_list, marker, row, column):\n",
    "    row_list[row-1][column-1] = marker"
   ]
  },
  {
   "cell_type": "code",
   "execution_count": 108,
   "metadata": {},
   "outputs": [],
   "source": [
    "def check_win(row_list, marker):\n",
    "    size = len(row_list)\n",
    "    \n",
    "    #check row and column winner\n",
    "    for i in range(size):\n",
    "        #row\n",
    "        if all(row_list[i][j] == row_list[i][0] == marker != ' ' for j in range(size)):\n",
    "            return True\n",
    "        #column\n",
    "        if all(row_list[j][i] == row_list[0][i] == marker != ' ' for j in range(size)):\n",
    "            return True\n",
    "        \n",
    "    #check main diagonal line\n",
    "    if all(row_list[i][i] == row_list[0][0] == marker != ' ' for i in range(size)):\n",
    "        return True\n",
    "        \n",
    "    #check secondary diagonal line\n",
    "    if all(row_list[i][size-1-i] == row_list[0][size-1] == marker and marker != ' ' for i in range(size)):\n",
    "        return True\n",
    "    \n",
    "    return False \n",
    "    "
   ]
  },
  {
   "cell_type": "code",
   "execution_count": 109,
   "metadata": {},
   "outputs": [],
   "source": [
    "def check_full_table(row_list):\n",
    "    size = len(row_list)\n",
    "    for row in row_list:\n",
    "        if (' ' in row):\n",
    "            return False\n",
    "        \n",
    "    return True\n",
    "                "
   ]
  },
  {
   "cell_type": "code",
   "execution_count": 110,
   "metadata": {},
   "outputs": [],
   "source": [
    "def replay():\n",
    "    check_replay = input(\"Do you want to replay? \")\n",
    "    if check_replay.lower()[0] == 'y':\n",
    "        return True\n",
    "    return False"
   ]
  },
  {
   "cell_type": "code",
   "execution_count": 111,
   "metadata": {},
   "outputs": [
    {
     "name": "stdout",
     "output_type": "stream",
     "text": [
      "Welcome to Tic-Tac-Toe!!!\n",
      "Player 1 will go first. Mark: X\n",
      "Player 1's turn\n",
      "Player 1 want to mark row 1, column 1\n",
      "X |   |  \n",
      "  |   |  \n",
      "  |   |  \n",
      "Player 2's turn\n",
      "Player 2 want to mark row 1, column 1. But this square was filled. Try again!!!\n",
      "X |   |  \n",
      "  |   |  \n",
      "  |   |  \n",
      "Player 2's turn\n",
      "Player 2 want to mark row 2, column 1\n",
      "X |   |  \n",
      "O |   |  \n",
      "  |   |  \n",
      "Player 1's turn\n",
      "Player 1 want to mark row 2, column 2\n",
      "X |   |  \n",
      "O | X |  \n",
      "  |   |  \n",
      "Player 2's turn\n",
      "Player 2 want to mark row 3, column 2\n",
      "X |   |  \n",
      "O | X |  \n",
      "  | O |  \n",
      "Player 1's turn\n",
      "Player 1 want to mark row 3, column 3\n",
      "X |   |  \n",
      "O | X |  \n",
      "  | O | X\n",
      "X |   |  \n",
      "O | X |  \n",
      "  | O | X\n",
      "Congratulation!!! Player 1 won the game\n"
     ]
    }
   ],
   "source": [
    "print('Welcome to Tic-Tac-Toe!!!')\n",
    "\n",
    "while True:\n",
    "    #choose size \n",
    "    size = choice_size_table()\n",
    "    \n",
    "    #create new row list\n",
    "    row_list = create_row_list(size)\n",
    "    \n",
    "    #choose player's marker\n",
    "    player1_marker, player2_marker = choose_marker()\n",
    "    \n",
    "    \n",
    "    #choose first turn\n",
    "    turn = play_first()\n",
    "    if turn == 'Player 1':\n",
    "        print(turn + ' will go first. Mark: ' + player1_marker)\n",
    "    else:\n",
    "        print(turn + ' will go first. Mark: ' + player2_marker)\n",
    "    \n",
    "    play_game = input('Are you ready to play? Enter Yes or No.')\n",
    "    \n",
    "    if play_game.lower()[0] == 'y':\n",
    "        game_on = True\n",
    "    else:\n",
    "        game_on = False\n",
    "        \n",
    "    while game_on:\n",
    "        if turn == 'Player 1':\n",
    "            #player 1's turn\n",
    "            print(\"Player 1's turn\")\n",
    "            row_choice = int(input('Enter the row you want to mark: '))\n",
    "            column_choice = int(input('Enter the column you want to mark: '))\n",
    "            if row_list[row_choice-1][column_choice-1] == ' ':\n",
    "                print(f\"Player 1 want to mark row {row_choice}, column {column_choice}\")\n",
    "                place_marker(row_list, player1_marker, row_choice, column_choice)\n",
    "                draw_table(row_list)\n",
    "            else:\n",
    "                print(f\"Player 1 want to mark row {row_choice}, column {column_choice}. But this square was filled. Try again!!!\")\n",
    "                draw_table(row_list)\n",
    "                continue\n",
    "            \n",
    "            # print(row_list)\n",
    "            #check winner:\n",
    "            if check_win(row_list, player1_marker):\n",
    "                draw_table(row_list)\n",
    "                print('Congratulation!!! Player 1 won the game')\n",
    "                game_on = False\n",
    "            else:\n",
    "                if check_full_table(row_list):\n",
    "                    draw_table(row_list)\n",
    "                    print('The game is draw!')\n",
    "                    break\n",
    "                else:\n",
    "                    turn = 'Player 2'\n",
    "        else:\n",
    "            #player 2's turn\n",
    "            print(\"Player 2's turn\")\n",
    "            row_choice = int(input('Enter the row you want to mark: '))\n",
    "            column_choice = int(input('Enter the column you want to mark: '))\n",
    "            if row_list[row_choice-1][column_choice-1] == ' ':\n",
    "                print(f\"Player 2 want to mark row {row_choice}, column {column_choice}\")\n",
    "                place_marker(row_list, player2_marker, row_choice, column_choice)\n",
    "                draw_table(row_list)    \n",
    "            else:\n",
    "                print(f\"Player 2 want to mark row {row_choice}, column {column_choice}. But this square was filled. Try again!!!\")\n",
    "                draw_table(row_list)    \n",
    "                continue\n",
    "            \n",
    "            # print(row_list)\n",
    "            #check winner:\n",
    "            if check_win(row_list, player2_marker):\n",
    "                draw_table(row_list)\n",
    "                print('Congratulation!!! Player 1 won the game')\n",
    "                game_on = False\n",
    "            else:\n",
    "                if check_full_table(row_list):\n",
    "                    draw_table(row_list)\n",
    "                    print('The game is draw!')\n",
    "                    break\n",
    "                else:\n",
    "                    turn = 'Player 1'\n",
    "    if not replay():\n",
    "        break\n",
    "        \n",
    "             "
   ]
  }
 ],
 "metadata": {
  "kernelspec": {
   "display_name": "Python 3",
   "language": "python",
   "name": "python3"
  },
  "language_info": {
   "codemirror_mode": {
    "name": "ipython",
    "version": 3
   },
   "file_extension": ".py",
   "mimetype": "text/x-python",
   "name": "python",
   "nbconvert_exporter": "python",
   "pygments_lexer": "ipython3",
   "version": "3.11.5"
  }
 },
 "nbformat": 4,
 "nbformat_minor": 1
}
